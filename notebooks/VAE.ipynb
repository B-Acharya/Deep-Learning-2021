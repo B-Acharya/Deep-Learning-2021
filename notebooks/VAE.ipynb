{
 "cells": [
  {
   "cell_type": "code",
   "execution_count": 9,
   "id": "b592507d",
   "metadata": {},
   "outputs": [
    {
     "data": {
      "text/plain": [
       "<torch._C.Generator at 0x20b53e55b50>"
      ]
     },
     "execution_count": 9,
     "metadata": {},
     "output_type": "execute_result"
    }
   ],
   "source": [
    "import torch\n",
    "from torch import optim\n",
    "from torch.distributions import transforms\n",
    "from torch.distributions.transforms import ReshapeTransform; torch.manual_seed(0)\n",
    "import torch.nn as nn\n",
    "import torch.nn.functional as F\n",
    "import torch.utils\n",
    "import torch.distributions\n",
    "import torchvision\n",
    "import numpy as np\n",
    "import torchvision.datasets as datasets\n",
    "from tqdm import tqdm\n",
    "import matplotlib.pyplot as plt\n",
    "import sys\n",
    "from torch.utils.data import DataLoader\n",
    "from torchvision.datasets.mnist import MNIST; torch.manual_seed(0)\n"
   ]
  },
  {
   "cell_type": "code",
   "execution_count": 2,
   "id": "ec8e8f41",
   "metadata": {},
   "outputs": [],
   "source": [
    "sys.path.append(\"D:\\Deep-Learning-2021\\Deep-Learning-2021\")\n",
    "from  src.models.variational_encoder  import VariationalAutoEncoderConv\n",
    "from src.data.load_mnist import MNIST"
   ]
  },
  {
   "cell_type": "code",
   "execution_count": 83,
   "id": "aae30a0d",
   "metadata": {},
   "outputs": [
    {
     "data": {
      "text/plain": [
       "VariationalAutoEncoderConv(\n",
       "  (encoder): encoderConv(\n",
       "    (encoder): Sequential(\n",
       "      (0): Conv2d(1, 8, kernel_size=(4, 4), stride=(2, 2), padding=(1, 1))\n",
       "      (1): LeakyReLU(negative_slope=0.01)\n",
       "      (2): Dropout(p=0.5, inplace=False)\n",
       "      (3): Conv2d(8, 16, kernel_size=(4, 4), stride=(2, 2), padding=(1, 1))\n",
       "      (4): LeakyReLU(negative_slope=0.01)\n",
       "      (5): Conv2d(16, 32, kernel_size=(4, 4), stride=(2, 2), padding=(1, 1))\n",
       "      (6): LeakyReLU(negative_slope=0.01)\n",
       "      (7): Conv2d(32, 64, kernel_size=(3, 3), stride=(2, 2))\n",
       "      (8): LeakyReLU(negative_slope=0.01)\n",
       "      (9): Flatten(start_dim=1, end_dim=-1)\n",
       "      (10): Linear(in_features=64, out_features=64, bias=True)\n",
       "    )\n",
       "    (linear2): Linear(in_features=64, out_features=16, bias=True)\n",
       "    (linear3): Linear(in_features=64, out_features=16, bias=True)\n",
       "  )\n",
       "  (decoder): decoderConv(\n",
       "    (linear1): Linear(in_features=16, out_features=64, bias=True)\n",
       "    (decoder): Sequential(\n",
       "      (0): UnFlatten()\n",
       "      (1): ConvTranspose2d(64, 128, kernel_size=(4, 4), stride=(1, 1))\n",
       "      (2): BatchNorm2d(128, eps=1e-05, momentum=0.1, affine=True, track_running_stats=True)\n",
       "      (3): LeakyReLU(negative_slope=0.01)\n",
       "      (4): ConvTranspose2d(128, 64, kernel_size=(4, 4), stride=(2, 2), padding=(1, 1))\n",
       "      (5): BatchNorm2d(64, eps=1e-05, momentum=0.1, affine=True, track_running_stats=True)\n",
       "      (6): LeakyReLU(negative_slope=0.01)\n",
       "      (7): ConvTranspose2d(64, 32, kernel_size=(4, 4), stride=(2, 2), padding=(1, 1))\n",
       "      (8): BatchNorm2d(32, eps=1e-05, momentum=0.1, affine=True, track_running_stats=True)\n",
       "      (9): LeakyReLU(negative_slope=0.01)\n",
       "      (10): ConvTranspose2d(32, 1, kernel_size=(4, 4), stride=(2, 2), padding=(3, 3))\n",
       "    )\n",
       "  )\n",
       ")"
      ]
     },
     "execution_count": 83,
     "metadata": {},
     "output_type": "execute_result"
    }
   ],
   "source": [
    "vae = VariationalAutoEncoderConv(16)\n",
    "path = \"D:\\Deep-Learning-2021\\Deep-Learning-2021\\models\\model25.pth\"\n",
    "vae.load_state_dict(torch.load(path))\n",
    "vae.eval()"
   ]
  },
  {
   "cell_type": "code",
   "execution_count": 47,
   "id": "81f681ba",
   "metadata": {},
   "outputs": [
    {
     "data": {
      "text/plain": [
       "5"
      ]
     },
     "execution_count": 47,
     "metadata": {},
     "output_type": "execute_result"
    }
   ],
   "source": [
    "mnist_trainset = MNIST(root= \"D:\\Deep-Learning-2021\\Deep-Learning-2021\\src\\data\", train=True, transform = torchvision.transforms.ToTensor())\n",
    "img , label = mnist_trainset[0]\n",
    "label"
   ]
  },
  {
   "cell_type": "code",
   "execution_count": 48,
   "id": "69750b96",
   "metadata": {},
   "outputs": [],
   "source": [
    "def filter_images(dataset):\n",
    "    new_dataset = []\n",
    "    new_label = []\n",
    "    for image, label in dataset:\n",
    "        if label < 5:\n",
    "            new_dataset.append(image)\n",
    "            new_label.append(label)\n",
    "    return new_dataset, new_label"
   ]
  },
  {
   "cell_type": "code",
   "execution_count": 4,
   "id": "6bceac8b",
   "metadata": {},
   "outputs": [
    {
     "ename": "NameError",
     "evalue": "name 'filter_images' is not defined",
     "output_type": "error",
     "traceback": [
      "\u001b[1;31m---------------------------------------------------------------------------\u001b[0m",
      "\u001b[1;31mNameError\u001b[0m                                 Traceback (most recent call last)",
      "\u001b[1;32m~\\AppData\\Local\\Temp/ipykernel_19668/2382560301.py\u001b[0m in \u001b[0;36m<module>\u001b[1;34m\u001b[0m\n\u001b[1;32m----> 1\u001b[1;33m \u001b[0mmnist_refined\u001b[0m\u001b[1;33m,\u001b[0m \u001b[0mlabels\u001b[0m \u001b[1;33m=\u001b[0m \u001b[0mfilter_images\u001b[0m\u001b[1;33m(\u001b[0m\u001b[0mmnist_trainset\u001b[0m\u001b[1;33m)\u001b[0m\u001b[1;33m\u001b[0m\u001b[1;33m\u001b[0m\u001b[0m\n\u001b[0m",
      "\u001b[1;31mNameError\u001b[0m: name 'filter_images' is not defined"
     ]
    }
   ],
   "source": [
    "mnist_refined, labels = filter_images(mnist_trainset)"
   ]
  },
  {
   "cell_type": "code",
   "execution_count": 88,
   "id": "497f23ae",
   "metadata": {},
   "outputs": [],
   "source": [
    "train_loader = DataLoader(mnist_trainset, batch_size= 10 ) "
   ]
  },
  {
   "cell_type": "code",
   "execution_count": 89,
   "id": "76db5b8a",
   "metadata": {},
   "outputs": [
    {
     "data": {
      "text/plain": [
       "[tensor([[[[0., 0., 0.,  ..., 0., 0., 0.],\n",
       "           [0., 0., 0.,  ..., 0., 0., 0.],\n",
       "           [0., 0., 0.,  ..., 0., 0., 0.],\n",
       "           ...,\n",
       "           [0., 0., 0.,  ..., 0., 0., 0.],\n",
       "           [0., 0., 0.,  ..., 0., 0., 0.],\n",
       "           [0., 0., 0.,  ..., 0., 0., 0.]]],\n",
       " \n",
       " \n",
       "         [[[0., 0., 0.,  ..., 0., 0., 0.],\n",
       "           [0., 0., 0.,  ..., 0., 0., 0.],\n",
       "           [0., 0., 0.,  ..., 0., 0., 0.],\n",
       "           ...,\n",
       "           [0., 0., 0.,  ..., 0., 0., 0.],\n",
       "           [0., 0., 0.,  ..., 0., 0., 0.],\n",
       "           [0., 0., 0.,  ..., 0., 0., 0.]]],\n",
       " \n",
       " \n",
       "         [[[0., 0., 0.,  ..., 0., 0., 0.],\n",
       "           [0., 0., 0.,  ..., 0., 0., 0.],\n",
       "           [0., 0., 0.,  ..., 0., 0., 0.],\n",
       "           ...,\n",
       "           [0., 0., 0.,  ..., 0., 0., 0.],\n",
       "           [0., 0., 0.,  ..., 0., 0., 0.],\n",
       "           [0., 0., 0.,  ..., 0., 0., 0.]]],\n",
       " \n",
       " \n",
       "         ...,\n",
       " \n",
       " \n",
       "         [[[0., 0., 0.,  ..., 0., 0., 0.],\n",
       "           [0., 0., 0.,  ..., 0., 0., 0.],\n",
       "           [0., 0., 0.,  ..., 0., 0., 0.],\n",
       "           ...,\n",
       "           [0., 0., 0.,  ..., 0., 0., 0.],\n",
       "           [0., 0., 0.,  ..., 0., 0., 0.],\n",
       "           [0., 0., 0.,  ..., 0., 0., 0.]]],\n",
       " \n",
       " \n",
       "         [[[0., 0., 0.,  ..., 0., 0., 0.],\n",
       "           [0., 0., 0.,  ..., 0., 0., 0.],\n",
       "           [0., 0., 0.,  ..., 0., 0., 0.],\n",
       "           ...,\n",
       "           [0., 0., 0.,  ..., 0., 0., 0.],\n",
       "           [0., 0., 0.,  ..., 0., 0., 0.],\n",
       "           [0., 0., 0.,  ..., 0., 0., 0.]]],\n",
       " \n",
       " \n",
       "         [[[0., 0., 0.,  ..., 0., 0., 0.],\n",
       "           [0., 0., 0.,  ..., 0., 0., 0.],\n",
       "           [0., 0., 0.,  ..., 0., 0., 0.],\n",
       "           ...,\n",
       "           [0., 0., 0.,  ..., 0., 0., 0.],\n",
       "           [0., 0., 0.,  ..., 0., 0., 0.],\n",
       "           [0., 0., 0.,  ..., 0., 0., 0.]]]]),\n",
       " tensor([5, 0, 4, 1, 9, 2, 1, 3, 1, 4])]"
      ]
     },
     "execution_count": 89,
     "metadata": {},
     "output_type": "execute_result"
    }
   ],
   "source": [
    "next(iter(train_loader))"
   ]
  },
  {
   "cell_type": "code",
   "execution_count": 95,
   "id": "c8da7d87",
   "metadata": {},
   "outputs": [
    {
     "data": {
      "text/plain": [
       "<matplotlib.image.AxesImage at 0x20b67956fa0>"
      ]
     },
     "execution_count": 95,
     "metadata": {},
     "output_type": "execute_result"
    },
    {
     "data": {
      "image/png": "[encoded data removed]",
      "text/plain": [
       "<Figure size 432x288 with 1 Axes>"
      ]
     },
     "metadata": {
      "needs_background": "light"
     },
     "output_type": "display_data"
    }
   ],
   "source": [
    "plt.imshow(next(iter(train_loader))[0][3].squeeze(0).detach().numpy())"
   ]
  },
  {
   "cell_type": "code",
   "execution_count": 96,
   "id": "a9a307a5",
   "metadata": {},
   "outputs": [],
   "source": [
    "pred = vae(next(iter(train_loader))[0])"
   ]
  },
  {
   "cell_type": "code",
   "execution_count": 97,
   "id": "bb6b89ba",
   "metadata": {},
   "outputs": [
    {
     "data": {
      "text/plain": [
       "tensor([[[[ 0.0121, -0.0513,  0.0189,  ...,  0.0035, -0.0053, -0.0009],\n",
       "          [ 0.0244, -0.0053, -0.0237,  ...,  0.0043,  0.0063,  0.0700],\n",
       "          [-0.0252, -0.0256, -0.0481,  ...,  0.0173, -0.0593, -0.0135],\n",
       "          ...,\n",
       "          [-0.0032, -0.0412, -0.0514,  ..., -0.0013, -0.0392,  0.0017],\n",
       "          [-0.0364, -0.0047, -0.0109,  ...,  0.0138,  0.0103, -0.0204],\n",
       "          [-0.0170, -0.0021,  0.0330,  ..., -0.0037, -0.0009, -0.0556]]],\n",
       "\n",
       "\n",
       "        [[[-0.0600, -0.0234, -0.0057,  ..., -0.0036,  0.0018, -0.0089],\n",
       "          [-0.0084,  0.0053, -0.0090,  ...,  0.0036,  0.0302, -0.0100],\n",
       "          [ 0.0016, -0.0131, -0.0243,  ...,  0.0239, -0.0319,  0.0015],\n",
       "          ...,\n",
       "          [-0.0159, -0.0272,  0.0014,  ..., -0.0150, -0.0111, -0.0102],\n",
       "          [-0.0221,  0.0049, -0.0376,  ...,  0.0062,  0.0007, -0.0431],\n",
       "          [-0.0112, -0.0194,  0.0318,  ...,  0.0169, -0.0119, -0.0375]]],\n",
       "\n",
       "\n",
       "        [[[-0.0332,  0.0069, -0.0209,  ...,  0.0085, -0.0850,  0.0038],\n",
       "          [ 0.0430, -0.0192,  0.0705,  ...,  0.0164,  0.0318,  0.0115],\n",
       "          [ 0.0525,  0.0030,  0.0769,  ...,  0.0117, -0.0223,  0.0139],\n",
       "          ...,\n",
       "          [ 0.0230, -0.0332,  0.0104,  ...,  0.0031, -0.0054,  0.0213],\n",
       "          [ 0.0372,  0.0077, -0.0036,  ...,  0.0261,  0.0043, -0.0043],\n",
       "          [ 0.0225,  0.0098,  0.0096,  ...,  0.0082, -0.0314,  0.0722]]],\n",
       "\n",
       "\n",
       "        ...,\n",
       "\n",
       "\n",
       "        [[[-0.0162, -0.0235,  0.0318,  ..., -0.0472,  0.0009,  0.0249],\n",
       "          [ 0.0285,  0.0077,  0.0233,  ..., -0.0002,  0.0218,  0.0321],\n",
       "          [-0.0060, -0.0124,  0.0065,  ..., -0.0031,  0.0420, -0.0024],\n",
       "          ...,\n",
       "          [ 0.0127,  0.0267,  0.0115,  ..., -0.0190,  0.0090, -0.0120],\n",
       "          [ 0.0292, -0.0335,  0.0074,  ..., -0.0011, -0.0097,  0.0054],\n",
       "          [-0.0154,  0.0091, -0.0031,  ...,  0.0305,  0.0080,  0.0496]]],\n",
       "\n",
       "\n",
       "        [[[-0.0301, -0.0309,  0.0070,  ..., -0.0199, -0.0373,  0.0124],\n",
       "          [ 0.0237,  0.0032,  0.0129,  ...,  0.0030, -0.0245, -0.0124],\n",
       "          [-0.0144, -0.0060,  0.0168,  ...,  0.0145,  0.0246,  0.0410],\n",
       "          ...,\n",
       "          [ 0.0239,  0.0059, -0.0064,  ...,  0.0005,  0.0167, -0.0054],\n",
       "          [-0.0231,  0.0132, -0.0270,  ...,  0.0197, -0.0365,  0.0278],\n",
       "          [ 0.0158,  0.0408,  0.0302,  ..., -0.0068, -0.0018,  0.0453]]],\n",
       "\n",
       "\n",
       "        [[[ 0.0215, -0.0291,  0.0010,  ..., -0.0043,  0.0208, -0.0175],\n",
       "          [-0.0097, -0.0171,  0.0145,  ..., -0.0698, -0.0003, -0.0212],\n",
       "          [-0.0045, -0.0231,  0.0016,  ..., -0.0422, -0.0243,  0.0422],\n",
       "          ...,\n",
       "          [-0.0229, -0.0050, -0.0031,  ..., -0.0112,  0.0013, -0.0074],\n",
       "          [-0.0364, -0.0222, -0.0282,  ...,  0.0161,  0.0006, -0.0003],\n",
       "          [ 0.0374, -0.0072, -0.0298,  ..., -0.0122, -0.0015,  0.0105]]]],\n",
       "       grad_fn=<SlowConvTranspose2DBackward>)"
      ]
     },
     "execution_count": 97,
     "metadata": {},
     "output_type": "execute_result"
    }
   ],
   "source": [
    "pred"
   ]
  },
  {
   "cell_type": "code",
   "execution_count": 101,
   "id": "2ebd63ff",
   "metadata": {},
   "outputs": [
    {
     "data": {
      "text/plain": [
       "<matplotlib.image.AxesImage at 0x20b67ae9b80>"
      ]
     },
     "execution_count": 101,
     "metadata": {},
     "output_type": "execute_result"
    },
    {
     "data": {
      "image/png": "[encoded data removed]",
      "text/plain": [
       "<Figure size 432x288 with 1 Axes>"
      ]
     },
     "metadata": {
      "needs_background": "light"
     },
     "output_type": "display_data"
    }
   ],
   "source": [
    "plt.imshow(pred[9].squeeze(0).squeeze(0).detach().numpy())"
   ]
  },
  {
   "cell_type": "code",
   "execution_count": 44,
   "id": "9550c3b2",
   "metadata": {},
   "outputs": [
    {
     "data": {
      "text/plain": [
       "<matplotlib.image.AxesImage at 0x20b6d186eb0>"
      ]
     },
     "execution_count": 44,
     "metadata": {},
     "output_type": "execute_result"
    },
    {
     "data": {
      "image/png": "[encoded data removed]",
      "text/plain": [
       "<Figure size 432x288 with 1 Axes>"
      ]
     },
     "metadata": {
      "needs_background": "light"
     },
     "output_type": "display_data"
    }
   ],
   "source": [
    "plt.imshow(mnist_trainset.data[mnist_trainset.targets == 6][0].squeeze(0).detach().numpy())"
   ]
  },
  {
   "cell_type": "code",
   "execution_count": 45,
   "id": "094addac",
   "metadata": {},
   "outputs": [
    {
     "ename": "AttributeError",
     "evalue": "'MNIST' object has no attribute 'get_examples'",
     "output_type": "error",
     "traceback": [
      "\u001b[1;31m---------------------------------------------------------------------------\u001b[0m",
      "\u001b[1;31mAttributeError\u001b[0m                            Traceback (most recent call last)",
      "\u001b[1;32m~\\AppData\\Local\\Temp/ipykernel_4784/293769351.py\u001b[0m in \u001b[0;36m<module>\u001b[1;34m\u001b[0m\n\u001b[1;32m----> 1\u001b[1;33m \u001b[0mexample\u001b[0m \u001b[1;33m=\u001b[0m \u001b[0mmnist_trainset\u001b[0m\u001b[1;33m.\u001b[0m\u001b[0mget_examples\u001b[0m\u001b[1;33m(\u001b[0m\u001b[1;33m)\u001b[0m\u001b[1;33m\u001b[0m\u001b[1;33m\u001b[0m\u001b[0m\n\u001b[0m",
      "\u001b[1;31mAttributeError\u001b[0m: 'MNIST' object has no attribute 'get_examples'"
     ]
    }
   ],
   "source": [
    "example = mnist_trainset.get_examples()\n"
   ]
  },
  {
   "cell_type": "code",
   "execution_count": 62,
   "id": "96ac6030",
   "metadata": {},
   "outputs": [
    {
     "data": {
      "text/plain": [
       "<matplotlib.image.AxesImage at 0x1d0067fec10>"
      ]
     },
     "execution_count": 62,
     "metadata": {},
     "output_type": "execute_result"
    },
    {
     "data": {
      "image/png": "[encoded data removed]",
      "text/plain": [
       "<Figure size 432x288 with 1 Axes>"
      ]
     },
     "metadata": {
      "needs_background": "light"
     },
     "output_type": "display_data"
    }
   ],
   "source": [
    "plt.imshow(example[9])"
   ]
  },
  {
   "cell_type": "code",
   "execution_count": null,
   "id": "f89fb94a",
   "metadata": {},
   "outputs": [],
   "source": []
  }
 ],
 "metadata": {
  "interpreter": {
   "hash": "9650a56899ef943d1474748a0a61b249101cbe47c36c935eac9eaea57398eae5"
  },
  "kernelspec": {
   "display_name": "Python 3 (ipykernel)",
   "language": "python",
   "name": "python3"
  },
  "language_info": {
   "codemirror_mode": {
    "name": "ipython",
    "version": 3
   },
   "file_extension": ".py",
   "mimetype": "text/x-python",
   "name": "python",
   "nbconvert_exporter": "python",
   "pygments_lexer": "ipython3",
   "version": "3.9.7"
  }
 },
 "nbformat": 4,
 "nbformat_minor": 5
}
